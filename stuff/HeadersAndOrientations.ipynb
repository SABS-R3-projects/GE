{
 "cells": [
  {
   "cell_type": "code",
   "execution_count": 1,
   "metadata": {},
   "outputs": [],
   "source": [
    "import nibabel as nib\n",
    "import numpy as np"
   ]
  },
  {
   "cell_type": "markdown",
   "metadata": {},
   "source": [
    "### What is in the header?\n",
    "\n",
    "They seem to explain all the values in great depth here:\n",
    "https://nifti.nimh.nih.gov/pub/dist/src/niftilib/nifti1.h"
   ]
  },
  {
   "cell_type": "code",
   "execution_count": 2,
   "metadata": {},
   "outputs": [
    {
     "ename": "FileNotFoundError",
     "evalue": "No such file or no access: '80yearold_bet.nii'",
     "output_type": "error",
     "traceback": [
      "\u001b[0;31m---------------------------------------------------------------------------\u001b[0m",
      "\u001b[0;31mFileNotFoundError\u001b[0m                         Traceback (most recent call last)",
      "\u001b[0;32m~/anaconda3/envs/GE_GUI/lib/python3.7/site-packages/nibabel/loadsave.py\u001b[0m in \u001b[0;36mload\u001b[0;34m(filename, **kwargs)\u001b[0m\n\u001b[1;32m     39\u001b[0m     \u001b[0;32mtry\u001b[0m\u001b[0;34m:\u001b[0m\u001b[0;34m\u001b[0m\u001b[0;34m\u001b[0m\u001b[0m\n\u001b[0;32m---> 40\u001b[0;31m         \u001b[0mstat_result\u001b[0m \u001b[0;34m=\u001b[0m \u001b[0mos\u001b[0m\u001b[0;34m.\u001b[0m\u001b[0mstat\u001b[0m\u001b[0;34m(\u001b[0m\u001b[0mfilename\u001b[0m\u001b[0;34m)\u001b[0m\u001b[0;34m\u001b[0m\u001b[0;34m\u001b[0m\u001b[0m\n\u001b[0m\u001b[1;32m     41\u001b[0m     \u001b[0;32mexcept\u001b[0m \u001b[0mOSError\u001b[0m\u001b[0;34m:\u001b[0m\u001b[0;34m\u001b[0m\u001b[0;34m\u001b[0m\u001b[0m\n",
      "\u001b[0;31mFileNotFoundError\u001b[0m: [Errno 2] No such file or directory: '80yearold_bet.nii'",
      "\nDuring handling of the above exception, another exception occurred:\n",
      "\u001b[0;31mFileNotFoundError\u001b[0m                         Traceback (most recent call last)",
      "\u001b[0;32m<ipython-input-2-2521a6b855ee>\u001b[0m in \u001b[0;36m<module>\u001b[0;34m\u001b[0m\n\u001b[0;32m----> 1\u001b[0;31m \u001b[0mimage\u001b[0m \u001b[0;34m=\u001b[0m \u001b[0mnib\u001b[0m\u001b[0;34m.\u001b[0m\u001b[0mload\u001b[0m\u001b[0;34m(\u001b[0m\u001b[0;34m\"80yearold_bet.nii\"\u001b[0m\u001b[0;34m)\u001b[0m\u001b[0;34m\u001b[0m\u001b[0;34m\u001b[0m\u001b[0m\n\u001b[0m\u001b[1;32m      2\u001b[0m \u001b[0mhd\u001b[0m \u001b[0;34m=\u001b[0m \u001b[0mimage\u001b[0m\u001b[0;34m.\u001b[0m\u001b[0mheader\u001b[0m\u001b[0;34m\u001b[0m\u001b[0;34m\u001b[0m\u001b[0m\n",
      "\u001b[0;32m~/anaconda3/envs/GE_GUI/lib/python3.7/site-packages/nibabel/loadsave.py\u001b[0m in \u001b[0;36mload\u001b[0;34m(filename, **kwargs)\u001b[0m\n\u001b[1;32m     40\u001b[0m         \u001b[0mstat_result\u001b[0m \u001b[0;34m=\u001b[0m \u001b[0mos\u001b[0m\u001b[0;34m.\u001b[0m\u001b[0mstat\u001b[0m\u001b[0;34m(\u001b[0m\u001b[0mfilename\u001b[0m\u001b[0;34m)\u001b[0m\u001b[0;34m\u001b[0m\u001b[0;34m\u001b[0m\u001b[0m\n\u001b[1;32m     41\u001b[0m     \u001b[0;32mexcept\u001b[0m \u001b[0mOSError\u001b[0m\u001b[0;34m:\u001b[0m\u001b[0;34m\u001b[0m\u001b[0;34m\u001b[0m\u001b[0m\n\u001b[0;32m---> 42\u001b[0;31m         \u001b[0;32mraise\u001b[0m \u001b[0mFileNotFoundError\u001b[0m\u001b[0;34m(\u001b[0m\u001b[0;34m\"No such file or no access: '%s'\"\u001b[0m \u001b[0;34m%\u001b[0m \u001b[0mfilename\u001b[0m\u001b[0;34m)\u001b[0m\u001b[0;34m\u001b[0m\u001b[0;34m\u001b[0m\u001b[0m\n\u001b[0m\u001b[1;32m     43\u001b[0m     \u001b[0;32mif\u001b[0m \u001b[0mstat_result\u001b[0m\u001b[0;34m.\u001b[0m\u001b[0mst_size\u001b[0m \u001b[0;34m<=\u001b[0m \u001b[0;36m0\u001b[0m\u001b[0;34m:\u001b[0m\u001b[0;34m\u001b[0m\u001b[0;34m\u001b[0m\u001b[0m\n\u001b[1;32m     44\u001b[0m         \u001b[0;32mraise\u001b[0m \u001b[0mImageFileError\u001b[0m\u001b[0;34m(\u001b[0m\u001b[0;34m\"Empty file: '%s'\"\u001b[0m \u001b[0;34m%\u001b[0m \u001b[0mfilename\u001b[0m\u001b[0;34m)\u001b[0m\u001b[0;34m\u001b[0m\u001b[0;34m\u001b[0m\u001b[0m\n",
      "\u001b[0;31mFileNotFoundError\u001b[0m: No such file or no access: '80yearold_bet.nii'"
     ]
    }
   ],
   "source": [
    "image = nib.load(\"80yearold_bet.nii\")\n",
    "hd = image.header"
   ]
  },
  {
   "cell_type": "code",
   "execution_count": 3,
   "metadata": {},
   "outputs": [
    {
     "name": "stdout",
     "output_type": "stream",
     "text": [
      "<class 'nibabel.nifti1.Nifti1Header'> object, endian='<'\n",
      "sizeof_hdr      : 348\n",
      "data_type       : b''\n",
      "db_name         : b''\n",
      "extents         : 16384\n",
      "session_error   : 0\n",
      "regular         : b'r'\n",
      "dim_info        : 0\n",
      "dim             : [  3 256 256 166   1   1   1   1]\n",
      "intent_p1       : 0.0\n",
      "intent_p2       : 0.0\n",
      "intent_p3       : 0.0\n",
      "intent_code     : none\n",
      "datatype        : float32\n",
      "bitpix          : 32\n",
      "slice_start     : 0\n",
      "pixdim          : [1.         0.9441619  0.94214064 1.2047185  1.         1.\n",
      " 1.         1.        ]\n",
      "vox_offset      : 0.0\n",
      "scl_slope       : nan\n",
      "scl_inter       : nan\n",
      "slice_end       : 0\n",
      "slice_code      : unknown\n",
      "xyzt_units      : 10\n",
      "cal_max         : 0.0\n",
      "cal_min         : 0.0\n",
      "slice_duration  : 0.0\n",
      "toffset         : 0.0\n",
      "glmax           : 0\n",
      "glmin           : 0\n",
      "descrip         : b'6.0.2:a4f562d9'\n",
      "aux_file        : b'none'\n",
      "qform_code      : scanner\n",
      "sform_code      : unknown\n",
      "quatern_b       : 0.70710677\n",
      "quatern_c       : -1.6473164e-10\n",
      "quatern_d       : -0.70710677\n",
      "qoffset_x       : 96.4664\n",
      "qoffset_y       : 144.531\n",
      "qoffset_z       : 137.29\n",
      "srow_x          : [0. 0. 0. 0.]\n",
      "srow_y          : [0. 0. 0. 0.]\n",
      "srow_z          : [0. 0. 0. 0.]\n",
      "intent_name     : b''\n",
      "magic           : b'n+1'\n"
     ]
    }
   ],
   "source": [
    "print(hd)"
   ]
  },
  {
   "cell_type": "markdown",
   "metadata": {},
   "source": [
    "### Table with all info in header:"
   ]
  },
  {
   "cell_type": "raw",
   "metadata": {},
   "source": [
    "                        /*************************/  /************************/\n",
    "struct nifti_1_header { /* NIFTI-1 usage         */  /* ANALYZE 7.5 field(s) */\n",
    "                        /*************************/  /************************/\n",
    "\n",
    "                                           /*--- was header_key substruct ---*/\n",
    " int   sizeof_hdr;    /*!< MUST be 348           */  /* int sizeof_hdr;      */\n",
    " char  data_type[10]; /*!< ++UNUSED++            */  /* char data_type[10];  */\n",
    " char  db_name[18];   /*!< ++UNUSED++            */  /* char db_name[18];    */\n",
    " int   extents;       /*!< ++UNUSED++            */  /* int extents;         */\n",
    " short session_error; /*!< ++UNUSED++            */  /* short session_error; */\n",
    " char  regular;       /*!< ++UNUSED++            */  /* char regular;        */\n",
    " char  dim_info;      /*!< MRI slice ordering.   */  /* char hkey_un0;       */\n",
    "\n",
    "                                      /*--- was image_dimension substruct ---*/\n",
    " short dim[8];        /*!< Data array dimensions.*/  /* short dim[8];        */\n",
    " float intent_p1 ;    /*!< 1st intent parameter. */  /* short unused8;       */\n",
    "                                                     /* short unused9;       */\n",
    " float intent_p2 ;    /*!< 2nd intent parameter. */  /* short unused10;      */\n",
    "                                                     /* short unused11;      */\n",
    " float intent_p3 ;    /*!< 3rd intent parameter. */  /* short unused12;      */\n",
    "                                                     /* short unused13;      */\n",
    " short intent_code ;  /*!< NIFTI_INTENT_* code.  */  /* short unused14;      */\n",
    " short datatype;      /*!< Defines data type!    */  /* short datatype;      */\n",
    " short bitpix;        /*!< Number bits/voxel.    */  /* short bitpix;        */\n",
    " short slice_start;   /*!< First slice index.    */  /* short dim_un0;       */\n",
    " float pixdim[8];     /*!< Grid spacings.        */  /* float pixdim[8];     */\n",
    " float vox_offset;    /*!< Offset into .nii file */  /* float vox_offset;    */\n",
    " float scl_slope ;    /*!< Data scaling: slope.  */  /* float funused1;      */\n",
    " float scl_inter ;    /*!< Data scaling: offset. */  /* float funused2;      */\n",
    " short slice_end;     /*!< Last slice index.     */  /* float funused3;      */\n",
    " char  slice_code ;   /*!< Slice timing order.   */\n",
    " char  xyzt_units ;   /*!< Units of pixdim[1..4] */\n",
    " float cal_max;       /*!< Max display intensity */  /* float cal_max;       */\n",
    " float cal_min;       /*!< Min display intensity */  /* float cal_min;       */\n",
    " float slice_duration;/*!< Time for 1 slice.     */  /* float compressed;    */\n",
    " float toffset;       /*!< Time axis shift.      */  /* float verified;      */\n",
    " int   glmax;         /*!< ++UNUSED++            */  /* int glmax;           */\n",
    " int   glmin;         /*!< ++UNUSED++            */  /* int glmin;           */\n",
    "\n",
    "                                         /*--- was data_history substruct ---*/\n",
    " char  descrip[80];   /*!< any text you like.    */  /* char descrip[80];    */\n",
    " char  aux_file[24];  /*!< auxiliary filename.   */  /* char aux_file[24];   */\n",
    "\n",
    " short qform_code ;   /*!< NIFTI_XFORM_* code.   */  /*-- all ANALYZE 7.5 ---*/\n",
    " short sform_code ;   /*!< NIFTI_XFORM_* code.   */  /*   fields below here  */\n",
    "                                                     /*   are replaced       */\n",
    " float quatern_b ;    /*!< Quaternion b param.   */\n",
    " float quatern_c ;    /*!< Quaternion c param.   */\n",
    " float quatern_d ;    /*!< Quaternion d param.   */\n",
    " float qoffset_x ;    /*!< Quaternion x shift.   */\n",
    " float qoffset_y ;    /*!< Quaternion y shift.   */\n",
    " float qoffset_z ;    /*!< Quaternion z shift.   */\n",
    "\n",
    " float srow_x[4] ;    /*!< 1st row affine transform.   */\n",
    " float srow_y[4] ;    /*!< 2nd row affine transform.   */\n",
    " float srow_z[4] ;    /*!< 3rd row affine transform.   */\n",
    "\n",
    " char intent_name[16];/*!< 'name' or meaning of data.  */\n",
    "\n",
    " char magic[4] ;      /*!< MUST be \"ni1\\0\" or \"n+1\\0\". */\n"
   ]
  },
  {
   "cell_type": "markdown",
   "metadata": {},
   "source": [
    "### Orientations and transforming images to canonical orientation"
   ]
  },
  {
   "cell_type": "code",
   "execution_count": 4,
   "metadata": {},
   "outputs": [
    {
     "data": {
      "text/plain": [
       "('I', 'P', 'L')"
      ]
     },
     "execution_count": 4,
     "metadata": {},
     "output_type": "execute_result"
    }
   ],
   "source": [
    "nib.aff2axcodes(image.affine)"
   ]
  },
  {
   "cell_type": "code",
   "execution_count": 5,
   "metadata": {},
   "outputs": [
    {
     "data": {
      "text/plain": [
       "('R', 'A', 'S')"
      ]
     },
     "execution_count": 5,
     "metadata": {},
     "output_type": "execute_result"
    }
   ],
   "source": [
    "canonical_image = nib.as_closest_canonical(image)\n",
    "nib.aff2axcodes(canonical_image.affine)\n",
    "# RAS is how our GUI assumes things are aligned."
   ]
  },
  {
   "cell_type": "code",
   "execution_count": 6,
   "metadata": {},
   "outputs": [
    {
     "name": "stdout",
     "output_type": "stream",
     "text": [
      "Before alignment:  (256, 256, 166)\n",
      "After alignment:   (166, 256, 256)\n"
     ]
    }
   ],
   "source": [
    "print(\"Before alignment: \",image.get_fdata().shape)\n",
    "print(\"After alignment:  \",canonical_image.get_fdata().shape)"
   ]
  },
  {
   "cell_type": "markdown",
   "metadata": {},
   "source": [
    "### Voxel sizes\n",
    "\n",
    "Size of each voxel can be calculated using the get_zooms() function"
   ]
  },
  {
   "cell_type": "code",
   "execution_count": 10,
   "metadata": {},
   "outputs": [
    {
     "data": {
      "text/plain": [
       "(0.9441619, 0.94214064, 1.2047185)"
      ]
     },
     "execution_count": 10,
     "metadata": {},
     "output_type": "execute_result"
    }
   ],
   "source": [
    "hd.get_zooms()"
   ]
  },
  {
   "cell_type": "markdown",
   "metadata": {},
   "source": [
    "What about units?\n",
    "\n",
    "I found the table below here: https://nifti.nimh.nih.gov/nifti-1/documentation/nifti1fields/nifti1fields_pages/xyzt_units.html"
   ]
  },
  {
   "cell_type": "code",
   "execution_count": 11,
   "metadata": {},
   "outputs": [],
   "source": [
    "#define NIFTI_UNITS_UNKNOWN 0 /! NIFTI code for unspecified units. /\n",
    "#                              / Space codes are multiples of 1. /\n",
    "#define NIFTI_UNITS_METER   1 /! NIFTI code for meters. /\n",
    "#define NIFTI_UNITS_MM      2 /! NIFTI code for millimeters. /\n",
    "#define NIFTI_UNITS_MICRON  3 /! NIFTI code for micrometers. /\n",
    "\n",
    "\n",
    "#                               / Time codes are multiples of 8. /\n",
    "#define NIFTI_UNITS_SEC     8 /! NIFTI code for seconds. /\n",
    "#define NIFTI_UNITS_MSEC   16 /! NIFTI code for milliseconds. /\n",
    "#define NIFTI_UNITS_USEC   24 /! NIFTI code for microseconds. /\n",
    "\n",
    "\n",
    "#                              /* These units are for spectral data: /\n",
    "#define NIFTI_UNITS_HZ     32 /! NIFTI code for Hertz. /\n",
    "#define NIFTI_UNITS_PPM    40 /! NIFTI code for ppm. /\n",
    "#define NIFTI_UNITS_RADS   48 /! NIFTI code for radians per second. */"
   ]
  },
  {
   "cell_type": "code",
   "execution_count": 12,
   "metadata": {},
   "outputs": [
    {
     "name": "stdout",
     "output_type": "stream",
     "text": [
      "2\n",
      "8\n"
     ]
    }
   ],
   "source": [
    "print(hd[\"xyzt_units\"] & 0x07)\n",
    "print(hd[\"xyzt_units\"] & 0x38)"
   ]
  },
  {
   "cell_type": "markdown",
   "metadata": {},
   "source": [
    "Therfore in seconds (doesn't matter) and milimeters"
   ]
  },
  {
   "cell_type": "markdown",
   "metadata": {},
   "source": [
    "### Standard space \n",
    "Attaching continuos coordinates to voxels: https://nifti.nimh.nih.gov/nifti-1/documentation/nifti1fields/nifti1fields_pages/qsform.html"
   ]
  },
  {
   "cell_type": "code",
   "execution_count": 22,
   "metadata": {},
   "outputs": [],
   "source": [
    "#define NIFTI_XFORM_UNKNOWN      0 /! Arbitrary coordinates (Method 1). /\n",
    "\n",
    "#define NIFTI_XFORM_SCANNER_ANAT 1 /! Scanner-based anatomical coordinates /\n",
    "\n",
    "#define NIFTI_XFORM_ALIGNED_ANAT 2 /! Coordinates aligned to another file's, or to anatomical \"truth\".            /\n",
    "\n",
    "#define NIFTI_XFORM_TALAIRACH    3 /! Coordinates aligned to Talairach-Tournoux Atlas; (0,0,0)=AC, etc. /\n",
    "\n",
    "#define NIFTI_XFORM_MNI_152      4 /! MNI 152 normalized coordinates. /"
   ]
  },
  {
   "cell_type": "code",
   "execution_count": 23,
   "metadata": {},
   "outputs": [
    {
     "name": "stdout",
     "output_type": "stream",
     "text": [
      "1\n",
      "0\n"
     ]
    }
   ],
   "source": [
    "print(hd[\"qform_code\"])\n",
    "print(hd[\"sform_code\"])"
   ]
  },
  {
   "cell_type": "markdown",
   "metadata": {},
   "source": [
    "When you do print(header) it already tells you you are using scanner coordinates. As qform > 0 and sform is not bigger than 0. That means we are using method 2, which uses the following transformation to express space (x,y,z) in voxels (i,j,k)\n",
    "\n",
    "     [ x ]   [ R11 R12 R13 ] [pixdim[1] * i ] + [ qoffset_x ]\n",
    "     [ y ] = [ R21 R22 R23 ] [pixdim[2] * j ] + [ qoffset_y ]\n",
    "     [ z ]   [ R31 R32 R33 ] [pixdim[3] * k ] + [ qoffset_z ]\n",
    "     \n",
    "As not sform > 0, all srow fields in the header are not used"
   ]
  },
  {
   "cell_type": "markdown",
   "metadata": {},
   "source": [
    "### Magic and intent_name"
   ]
  },
  {
   "cell_type": "markdown",
   "metadata": {},
   "source": [
    "intent_name provides 15 characters to specify a filename\n",
    "\n",
    "If the magic field is \"n+1\", then the voxel data is stored in the same file as the header. In this case, the voxel data starts at offset (int)vox_offset into the header file. Thus, vox_offset=352.0 means that the data starts immediately after the NIFTI-1 header. If vox_offset is greater than 352, the NIFTI-1 format does not say much about the contents of the dataset file between the end of the header and the start of the data.\n",
    "\n",
    "If the magic field is \"ni1\", then the voxel data is stored in the associated \".img\" file, starting at offset 0 (i.e., vox_offset is not used in this case, and should be set to 0.0).\n"
   ]
  },
  {
   "cell_type": "code",
   "execution_count": null,
   "metadata": {},
   "outputs": [],
   "source": []
  },
  {
   "cell_type": "code",
   "execution_count": 3,
   "metadata": {},
   "outputs": [],
   "source": [
    "import matplotlib.pyplot as plt"
   ]
  },
  {
   "cell_type": "code",
   "execution_count": 13,
   "metadata": {},
   "outputs": [
    {
     "data": {
      "text/plain": [
       "(array([9.595796e+06, 1.790200e+05, 7.692700e+04, 4.033900e+04,\n",
       "        1.345000e+03, 2.796900e+04, 2.397900e+04, 2.126800e+04,\n",
       "        2.010500e+04, 8.290000e+02, 1.902700e+04, 1.899700e+04,\n",
       "        1.924700e+04, 1.950300e+04, 5.390000e+02, 1.987100e+04,\n",
       "        1.980900e+04, 1.962500e+04, 1.949200e+04, 4.020000e+02,\n",
       "        1.919600e+04, 1.925200e+04, 1.933100e+04, 1.941800e+04,\n",
       "        3.600000e+02, 1.931100e+04, 1.936800e+04, 1.983100e+04,\n",
       "        3.640000e+02, 2.017400e+04, 2.038400e+04, 2.057100e+04,\n",
       "        2.098600e+04, 3.150000e+02, 2.058900e+04, 2.103200e+04,\n",
       "        2.079200e+04, 2.102400e+04, 2.440000e+02, 2.062400e+04,\n",
       "        2.028300e+04, 2.050000e+04, 2.041300e+04, 2.700000e+02,\n",
       "        2.071200e+04, 2.075100e+04, 2.039900e+04, 2.042200e+04,\n",
       "        2.300000e+02, 2.064300e+04, 2.084600e+04, 2.094000e+04,\n",
       "        2.118400e+04, 1.750000e+02, 2.102500e+04, 2.109500e+04,\n",
       "        2.139800e+04, 2.290000e+02, 2.135800e+04, 2.179700e+04,\n",
       "        2.174400e+04, 2.247700e+04, 2.140000e+02, 2.275400e+04,\n",
       "        2.318400e+04, 2.369400e+04, 2.422900e+04, 1.950000e+02,\n",
       "        2.512700e+04, 2.577800e+04, 2.629500e+04, 2.750400e+04,\n",
       "        1.480000e+02, 2.802800e+04, 2.863200e+04, 2.965500e+04,\n",
       "        3.038000e+04, 1.220000e+02, 3.107700e+04, 3.194700e+04,\n",
       "        3.232400e+04, 3.280800e+04, 1.080000e+02, 3.256600e+04,\n",
       "        3.192200e+04, 3.185700e+04, 1.070000e+02, 3.070800e+04,\n",
       "        3.037200e+04, 2.960000e+04, 2.805900e+04, 7.400000e+01,\n",
       "        2.729700e+04, 2.603500e+04, 2.497600e+04, 2.369500e+04,\n",
       "        5.800000e+01, 2.304700e+04, 2.254200e+04, 2.180900e+04,\n",
       "        2.126200e+04, 5.900000e+01, 2.075900e+04, 2.070900e+04,\n",
       "        2.025700e+04, 2.030900e+04, 5.600000e+01, 1.987500e+04,\n",
       "        1.962400e+04, 1.975000e+04, 1.969100e+04, 4.300000e+01,\n",
       "        1.942800e+04, 1.929800e+04, 1.945200e+04, 5.800000e+01,\n",
       "        1.889700e+04, 1.921000e+04, 1.909500e+04, 1.895200e+04,\n",
       "        6.100000e+01, 1.924600e+04, 1.904500e+04, 1.934100e+04,\n",
       "        1.928700e+04, 3.800000e+01, 1.934200e+04, 1.969600e+04,\n",
       "        1.972800e+04, 2.002300e+04, 5.200000e+01, 2.057100e+04,\n",
       "        2.112700e+04, 2.151100e+04, 2.176900e+04, 3.800000e+01,\n",
       "        2.217200e+04, 2.213100e+04, 2.177100e+04, 2.082600e+04,\n",
       "        3.900000e+01, 2.023500e+04, 1.895300e+04, 1.782000e+04,\n",
       "        3.600000e+01, 1.641900e+04, 1.556100e+04, 1.497500e+04,\n",
       "        1.455400e+04, 4.300000e+01, 1.417100e+04, 1.371300e+04,\n",
       "        1.325000e+04, 1.272400e+04, 3.300000e+01, 1.208100e+04,\n",
       "        1.106600e+04, 9.850000e+03, 8.729000e+03, 2.100000e+01,\n",
       "        7.758000e+03, 6.796000e+03, 5.938000e+03, 5.248000e+03,\n",
       "        2.800000e+01, 4.599000e+03, 4.295000e+03, 3.938000e+03,\n",
       "        3.572000e+03, 1.500000e+01, 3.362000e+03, 3.017000e+03,\n",
       "        2.918000e+03, 1.900000e+01, 2.766000e+03, 2.663000e+03,\n",
       "        2.561000e+03, 2.574000e+03, 1.300000e+01, 2.418000e+03,\n",
       "        2.402000e+03, 2.393000e+03, 2.230000e+03, 8.000000e+00,\n",
       "        2.253000e+03, 2.181000e+03, 2.046000e+03, 2.054000e+03,\n",
       "        3.000000e+00, 1.931000e+03, 1.944000e+03, 1.869000e+03,\n",
       "        1.804000e+03, 2.000000e+00, 1.695000e+03, 1.706000e+03,\n",
       "        1.668000e+03, 1.565000e+03, 1.000000e+00, 1.489000e+03,\n",
       "        1.436000e+03, 1.334000e+03, 2.000000e+00, 1.210000e+03,\n",
       "        1.109000e+03, 1.094000e+03, 1.037000e+03, 0.000000e+00,\n",
       "        1.012000e+03, 9.670000e+02, 9.320000e+02, 8.180000e+02,\n",
       "        0.000000e+00, 7.770000e+02, 7.710000e+02, 7.490000e+02,\n",
       "        6.440000e+02, 0.000000e+00, 6.350000e+02, 5.750000e+02,\n",
       "        5.760000e+02, 5.250000e+02, 0.000000e+00, 4.450000e+02,\n",
       "        4.230000e+02, 3.350000e+02, 3.010000e+02, 0.000000e+00,\n",
       "        2.500000e+02, 1.900000e+02, 1.470000e+02, 2.000000e+00,\n",
       "        1.170000e+02, 1.020000e+02, 8.200000e+01, 5.300000e+01,\n",
       "        0.000000e+00, 4.200000e+01, 4.100000e+01, 1.500000e+01,\n",
       "        1.200000e+01, 0.000000e+00, 1.600000e+01, 1.000000e+01,\n",
       "        5.000000e+00, 2.000000e+00, 0.000000e+00, 3.000000e+00,\n",
       "        1.000000e+00, 2.000000e+00, 0.000000e+00, 0.000000e+00,\n",
       "        1.000000e+00, 0.000000e+00, 0.000000e+00, 1.000000e+00]),\n",
       " array([0.        , 0.00390625, 0.0078125 , 0.01171875, 0.015625  ,\n",
       "        0.01953125, 0.0234375 , 0.02734375, 0.03125   , 0.03515625,\n",
       "        0.0390625 , 0.04296875, 0.046875  , 0.05078125, 0.0546875 ,\n",
       "        0.05859375, 0.0625    , 0.06640625, 0.0703125 , 0.07421875,\n",
       "        0.078125  , 0.08203125, 0.0859375 , 0.08984375, 0.09375   ,\n",
       "        0.09765625, 0.1015625 , 0.10546875, 0.109375  , 0.11328125,\n",
       "        0.1171875 , 0.12109375, 0.125     , 0.12890625, 0.1328125 ,\n",
       "        0.13671875, 0.140625  , 0.14453125, 0.1484375 , 0.15234375,\n",
       "        0.15625   , 0.16015625, 0.1640625 , 0.16796875, 0.171875  ,\n",
       "        0.17578125, 0.1796875 , 0.18359375, 0.1875    , 0.19140625,\n",
       "        0.1953125 , 0.19921875, 0.203125  , 0.20703125, 0.2109375 ,\n",
       "        0.21484375, 0.21875   , 0.22265625, 0.2265625 , 0.23046875,\n",
       "        0.234375  , 0.23828125, 0.2421875 , 0.24609375, 0.25      ,\n",
       "        0.25390625, 0.2578125 , 0.26171875, 0.265625  , 0.26953125,\n",
       "        0.2734375 , 0.27734375, 0.28125   , 0.28515625, 0.2890625 ,\n",
       "        0.29296875, 0.296875  , 0.30078125, 0.3046875 , 0.30859375,\n",
       "        0.3125    , 0.31640625, 0.3203125 , 0.32421875, 0.328125  ,\n",
       "        0.33203125, 0.3359375 , 0.33984375, 0.34375   , 0.34765625,\n",
       "        0.3515625 , 0.35546875, 0.359375  , 0.36328125, 0.3671875 ,\n",
       "        0.37109375, 0.375     , 0.37890625, 0.3828125 , 0.38671875,\n",
       "        0.390625  , 0.39453125, 0.3984375 , 0.40234375, 0.40625   ,\n",
       "        0.41015625, 0.4140625 , 0.41796875, 0.421875  , 0.42578125,\n",
       "        0.4296875 , 0.43359375, 0.4375    , 0.44140625, 0.4453125 ,\n",
       "        0.44921875, 0.453125  , 0.45703125, 0.4609375 , 0.46484375,\n",
       "        0.46875   , 0.47265625, 0.4765625 , 0.48046875, 0.484375  ,\n",
       "        0.48828125, 0.4921875 , 0.49609375, 0.5       , 0.50390625,\n",
       "        0.5078125 , 0.51171875, 0.515625  , 0.51953125, 0.5234375 ,\n",
       "        0.52734375, 0.53125   , 0.53515625, 0.5390625 , 0.54296875,\n",
       "        0.546875  , 0.55078125, 0.5546875 , 0.55859375, 0.5625    ,\n",
       "        0.56640625, 0.5703125 , 0.57421875, 0.578125  , 0.58203125,\n",
       "        0.5859375 , 0.58984375, 0.59375   , 0.59765625, 0.6015625 ,\n",
       "        0.60546875, 0.609375  , 0.61328125, 0.6171875 , 0.62109375,\n",
       "        0.625     , 0.62890625, 0.6328125 , 0.63671875, 0.640625  ,\n",
       "        0.64453125, 0.6484375 , 0.65234375, 0.65625   , 0.66015625,\n",
       "        0.6640625 , 0.66796875, 0.671875  , 0.67578125, 0.6796875 ,\n",
       "        0.68359375, 0.6875    , 0.69140625, 0.6953125 , 0.69921875,\n",
       "        0.703125  , 0.70703125, 0.7109375 , 0.71484375, 0.71875   ,\n",
       "        0.72265625, 0.7265625 , 0.73046875, 0.734375  , 0.73828125,\n",
       "        0.7421875 , 0.74609375, 0.75      , 0.75390625, 0.7578125 ,\n",
       "        0.76171875, 0.765625  , 0.76953125, 0.7734375 , 0.77734375,\n",
       "        0.78125   , 0.78515625, 0.7890625 , 0.79296875, 0.796875  ,\n",
       "        0.80078125, 0.8046875 , 0.80859375, 0.8125    , 0.81640625,\n",
       "        0.8203125 , 0.82421875, 0.828125  , 0.83203125, 0.8359375 ,\n",
       "        0.83984375, 0.84375   , 0.84765625, 0.8515625 , 0.85546875,\n",
       "        0.859375  , 0.86328125, 0.8671875 , 0.87109375, 0.875     ,\n",
       "        0.87890625, 0.8828125 , 0.88671875, 0.890625  , 0.89453125,\n",
       "        0.8984375 , 0.90234375, 0.90625   , 0.91015625, 0.9140625 ,\n",
       "        0.91796875, 0.921875  , 0.92578125, 0.9296875 , 0.93359375,\n",
       "        0.9375    , 0.94140625, 0.9453125 , 0.94921875, 0.953125  ,\n",
       "        0.95703125, 0.9609375 , 0.96484375, 0.96875   , 0.97265625,\n",
       "        0.9765625 , 0.98046875, 0.984375  , 0.98828125, 0.9921875 ,\n",
       "        0.99609375, 1.        ]),\n",
       " <a list of 256 Patch objects>)"
      ]
     },
     "execution_count": 13,
     "metadata": {},
     "output_type": "execute_result"
    },
    {
     "data": {
      "image/png": "[encoded data removed]",
      "text/plain": [
       "<Figure size 432x288 with 1 Axes>"
      ]
     },
     "metadata": {
      "needs_background": "light"
     },
     "output_type": "display_data"
    }
   ],
   "source": [
    "a = nib.load(\"/home/sabs-r3/Desktop/Paint4Brains/Paint4Brains/segmented.nii\").get_fdata()\n",
    "a = a / np.max(a)\n",
    "plt.hist(a.flatten(), bins =256, range = (0,1))"
   ]
  },
  {
   "cell_type": "code",
   "execution_count": null,
   "metadata": {},
   "outputs": [],
   "source": []
  }
 ],
 "metadata": {
  "kernelspec": {
   "display_name": "Python 3",
   "language": "python",
   "name": "python3"
  },
  "language_info": {
   "codemirror_mode": {
    "name": "ipython",
    "version": 3
   },
   "file_extension": ".py",
   "mimetype": "text/x-python",
   "name": "python",
   "nbconvert_exporter": "python",
   "pygments_lexer": "ipython3",
   "version": "3.7.5"
  }
 },
 "nbformat": 4,
 "nbformat_minor": 2
}
