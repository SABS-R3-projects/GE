{
 "cells": [
  {
   "cell_type": "code",
   "execution_count": 1,
   "metadata": {},
   "outputs": [],
   "source": [
    "import nibabel as nib\n",
    "import numpy as np"
   ]
  },
  {
   "cell_type": "markdown",
   "metadata": {},
   "source": [
    "### What is in the header?\n",
    "\n",
    "They seem to explain all the values in great depth here:\n",
    "https://nifti.nimh.nih.gov/pub/dist/src/niftilib/nifti1.h"
   ]
  },
  {
   "cell_type": "code",
   "execution_count": 2,
   "metadata": {},
   "outputs": [],
   "source": [
    "image = nib.load(\"80yearold_bet.nii\")\n",
    "hd = image.header"
   ]
  },
  {
   "cell_type": "code",
   "execution_count": 3,
   "metadata": {},
   "outputs": [
    {
     "name": "stdout",
     "output_type": "stream",
     "text": [
      "<class 'nibabel.nifti1.Nifti1Header'> object, endian='<'\n",
      "sizeof_hdr      : 348\n",
      "data_type       : b''\n",
      "db_name         : b''\n",
      "extents         : 16384\n",
      "session_error   : 0\n",
      "regular         : b'r'\n",
      "dim_info        : 0\n",
      "dim             : [  3 256 256 166   1   1   1   1]\n",
      "intent_p1       : 0.0\n",
      "intent_p2       : 0.0\n",
      "intent_p3       : 0.0\n",
      "intent_code     : none\n",
      "datatype        : float32\n",
      "bitpix          : 32\n",
      "slice_start     : 0\n",
      "pixdim          : [1.         0.9441619  0.94214064 1.2047185  1.         1.\n",
      " 1.         1.        ]\n",
      "vox_offset      : 0.0\n",
      "scl_slope       : nan\n",
      "scl_inter       : nan\n",
      "slice_end       : 0\n",
      "slice_code      : unknown\n",
      "xyzt_units      : 10\n",
      "cal_max         : 0.0\n",
      "cal_min         : 0.0\n",
      "slice_duration  : 0.0\n",
      "toffset         : 0.0\n",
      "glmax           : 0\n",
      "glmin           : 0\n",
      "descrip         : b'6.0.2:a4f562d9'\n",
      "aux_file        : b'none'\n",
      "qform_code      : scanner\n",
      "sform_code      : unknown\n",
      "quatern_b       : 0.70710677\n",
      "quatern_c       : -1.6473164e-10\n",
      "quatern_d       : -0.70710677\n",
      "qoffset_x       : 96.4664\n",
      "qoffset_y       : 144.531\n",
      "qoffset_z       : 137.29\n",
      "srow_x          : [0. 0. 0. 0.]\n",
      "srow_y          : [0. 0. 0. 0.]\n",
      "srow_z          : [0. 0. 0. 0.]\n",
      "intent_name     : b''\n",
      "magic           : b'n+1'\n"
     ]
    }
   ],
   "source": [
    "print(hd)"
   ]
  },
  {
   "cell_type": "markdown",
   "metadata": {},
   "source": [
    "### Table with all info in header:"
   ]
  },
  {
   "cell_type": "raw",
   "metadata": {},
   "source": [
    "                        /*************************/  /************************/\n",
    "struct nifti_1_header { /* NIFTI-1 usage         */  /* ANALYZE 7.5 field(s) */\n",
    "                        /*************************/  /************************/\n",
    "\n",
    "                                           /*--- was header_key substruct ---*/\n",
    " int   sizeof_hdr;    /*!< MUST be 348           */  /* int sizeof_hdr;      */\n",
    " char  data_type[10]; /*!< ++UNUSED++            */  /* char data_type[10];  */\n",
    " char  db_name[18];   /*!< ++UNUSED++            */  /* char db_name[18];    */\n",
    " int   extents;       /*!< ++UNUSED++            */  /* int extents;         */\n",
    " short session_error; /*!< ++UNUSED++            */  /* short session_error; */\n",
    " char  regular;       /*!< ++UNUSED++            */  /* char regular;        */\n",
    " char  dim_info;      /*!< MRI slice ordering.   */  /* char hkey_un0;       */\n",
    "\n",
    "                                      /*--- was image_dimension substruct ---*/\n",
    " short dim[8];        /*!< Data array dimensions.*/  /* short dim[8];        */\n",
    " float intent_p1 ;    /*!< 1st intent parameter. */  /* short unused8;       */\n",
    "                                                     /* short unused9;       */\n",
    " float intent_p2 ;    /*!< 2nd intent parameter. */  /* short unused10;      */\n",
    "                                                     /* short unused11;      */\n",
    " float intent_p3 ;    /*!< 3rd intent parameter. */  /* short unused12;      */\n",
    "                                                     /* short unused13;      */\n",
    " short intent_code ;  /*!< NIFTI_INTENT_* code.  */  /* short unused14;      */\n",
    " short datatype;      /*!< Defines data type!    */  /* short datatype;      */\n",
    " short bitpix;        /*!< Number bits/voxel.    */  /* short bitpix;        */\n",
    " short slice_start;   /*!< First slice index.    */  /* short dim_un0;       */\n",
    " float pixdim[8];     /*!< Grid spacings.        */  /* float pixdim[8];     */\n",
    " float vox_offset;    /*!< Offset into .nii file */  /* float vox_offset;    */\n",
    " float scl_slope ;    /*!< Data scaling: slope.  */  /* float funused1;      */\n",
    " float scl_inter ;    /*!< Data scaling: offset. */  /* float funused2;      */\n",
    " short slice_end;     /*!< Last slice index.     */  /* float funused3;      */\n",
    " char  slice_code ;   /*!< Slice timing order.   */\n",
    " char  xyzt_units ;   /*!< Units of pixdim[1..4] */\n",
    " float cal_max;       /*!< Max display intensity */  /* float cal_max;       */\n",
    " float cal_min;       /*!< Min display intensity */  /* float cal_min;       */\n",
    " float slice_duration;/*!< Time for 1 slice.     */  /* float compressed;    */\n",
    " float toffset;       /*!< Time axis shift.      */  /* float verified;      */\n",
    " int   glmax;         /*!< ++UNUSED++            */  /* int glmax;           */\n",
    " int   glmin;         /*!< ++UNUSED++            */  /* int glmin;           */\n",
    "\n",
    "                                         /*--- was data_history substruct ---*/\n",
    " char  descrip[80];   /*!< any text you like.    */  /* char descrip[80];    */\n",
    " char  aux_file[24];  /*!< auxiliary filename.   */  /* char aux_file[24];   */\n",
    "\n",
    " short qform_code ;   /*!< NIFTI_XFORM_* code.   */  /*-- all ANALYZE 7.5 ---*/\n",
    " short sform_code ;   /*!< NIFTI_XFORM_* code.   */  /*   fields below here  */\n",
    "                                                     /*   are replaced       */\n",
    " float quatern_b ;    /*!< Quaternion b param.   */\n",
    " float quatern_c ;    /*!< Quaternion c param.   */\n",
    " float quatern_d ;    /*!< Quaternion d param.   */\n",
    " float qoffset_x ;    /*!< Quaternion x shift.   */\n",
    " float qoffset_y ;    /*!< Quaternion y shift.   */\n",
    " float qoffset_z ;    /*!< Quaternion z shift.   */\n",
    "\n",
    " float srow_x[4] ;    /*!< 1st row affine transform.   */\n",
    " float srow_y[4] ;    /*!< 2nd row affine transform.   */\n",
    " float srow_z[4] ;    /*!< 3rd row affine transform.   */\n",
    "\n",
    " char intent_name[16];/*!< 'name' or meaning of data.  */\n",
    "\n",
    " char magic[4] ;      /*!< MUST be \"ni1\\0\" or \"n+1\\0\". */\n"
   ]
  },
  {
   "cell_type": "markdown",
   "metadata": {},
   "source": [
    "### Orientations and transforming images to canonical orientation"
   ]
  },
  {
   "cell_type": "code",
   "execution_count": 4,
   "metadata": {},
   "outputs": [
    {
     "data": {
      "text/plain": [
       "('I', 'P', 'L')"
      ]
     },
     "execution_count": 4,
     "metadata": {},
     "output_type": "execute_result"
    }
   ],
   "source": [
    "nib.aff2axcodes(image.affine)"
   ]
  },
  {
   "cell_type": "code",
   "execution_count": 5,
   "metadata": {},
   "outputs": [
    {
     "data": {
      "text/plain": [
       "('R', 'A', 'S')"
      ]
     },
     "execution_count": 5,
     "metadata": {},
     "output_type": "execute_result"
    }
   ],
   "source": [
    "canonical_image = nib.as_closest_canonical(image)\n",
    "nib.aff2axcodes(canonical_image.affine)\n",
    "# RAS is how our GUI assumes things are aligned."
   ]
  },
  {
   "cell_type": "code",
   "execution_count": 6,
   "metadata": {},
   "outputs": [
    {
     "name": "stdout",
     "output_type": "stream",
     "text": [
      "Before alignment:  (256, 256, 166)\n",
      "After alignment:   (166, 256, 256)\n"
     ]
    }
   ],
   "source": [
    "print(\"Before alignment: \",image.get_fdata().shape)\n",
    "print(\"After alignment:  \",canonical_image.get_fdata().shape)"
   ]
  },
  {
   "cell_type": "markdown",
   "metadata": {},
   "source": [
    "### Voxel sizes\n",
    "\n",
    "Size of each voxel can be calculated using the get_zooms() function"
   ]
  },
  {
   "cell_type": "code",
   "execution_count": 10,
   "metadata": {},
   "outputs": [
    {
     "data": {
      "text/plain": [
       "(0.9441619, 0.94214064, 1.2047185)"
      ]
     },
     "execution_count": 10,
     "metadata": {},
     "output_type": "execute_result"
    }
   ],
   "source": [
    "hd.get_zooms()"
   ]
  },
  {
   "cell_type": "markdown",
   "metadata": {},
   "source": [
    "What about units?\n",
    "\n",
    "I found the table below here: https://nifti.nimh.nih.gov/nifti-1/documentation/nifti1fields/nifti1fields_pages/xyzt_units.html"
   ]
  },
  {
   "cell_type": "code",
   "execution_count": 11,
   "metadata": {},
   "outputs": [],
   "source": [
    "#define NIFTI_UNITS_UNKNOWN 0 /! NIFTI code for unspecified units. /\n",
    "#                              / Space codes are multiples of 1. /\n",
    "#define NIFTI_UNITS_METER   1 /! NIFTI code for meters. /\n",
    "#define NIFTI_UNITS_MM      2 /! NIFTI code for millimeters. /\n",
    "#define NIFTI_UNITS_MICRON  3 /! NIFTI code for micrometers. /\n",
    "\n",
    "\n",
    "#                               / Time codes are multiples of 8. /\n",
    "#define NIFTI_UNITS_SEC     8 /! NIFTI code for seconds. /\n",
    "#define NIFTI_UNITS_MSEC   16 /! NIFTI code for milliseconds. /\n",
    "#define NIFTI_UNITS_USEC   24 /! NIFTI code for microseconds. /\n",
    "\n",
    "\n",
    "#                              /* These units are for spectral data: /\n",
    "#define NIFTI_UNITS_HZ     32 /! NIFTI code for Hertz. /\n",
    "#define NIFTI_UNITS_PPM    40 /! NIFTI code for ppm. /\n",
    "#define NIFTI_UNITS_RADS   48 /! NIFTI code for radians per second. */"
   ]
  },
  {
   "cell_type": "code",
   "execution_count": 12,
   "metadata": {},
   "outputs": [
    {
     "name": "stdout",
     "output_type": "stream",
     "text": [
      "2\n",
      "8\n"
     ]
    }
   ],
   "source": [
    "print(hd[\"xyzt_units\"] & 0x07)\n",
    "print(hd[\"xyzt_units\"] & 0x38)"
   ]
  },
  {
   "cell_type": "markdown",
   "metadata": {},
   "source": [
    "Therfore in seconds (doesn't matter) and milimeters"
   ]
  },
  {
   "cell_type": "markdown",
   "metadata": {},
   "source": [
    "### Standard space \n",
    "Attaching continuos coordinates to voxels: https://nifti.nimh.nih.gov/nifti-1/documentation/nifti1fields/nifti1fields_pages/qsform.html"
   ]
  },
  {
   "cell_type": "code",
   "execution_count": 22,
   "metadata": {},
   "outputs": [],
   "source": [
    "#define NIFTI_XFORM_UNKNOWN      0 /! Arbitrary coordinates (Method 1). /\n",
    "\n",
    "#define NIFTI_XFORM_SCANNER_ANAT 1 /! Scanner-based anatomical coordinates /\n",
    "\n",
    "#define NIFTI_XFORM_ALIGNED_ANAT 2 /! Coordinates aligned to another file's, or to anatomical \"truth\".            /\n",
    "\n",
    "#define NIFTI_XFORM_TALAIRACH    3 /! Coordinates aligned to Talairach-Tournoux Atlas; (0,0,0)=AC, etc. /\n",
    "\n",
    "#define NIFTI_XFORM_MNI_152      4 /! MNI 152 normalized coordinates. /"
   ]
  },
  {
   "cell_type": "code",
   "execution_count": 23,
   "metadata": {},
   "outputs": [
    {
     "name": "stdout",
     "output_type": "stream",
     "text": [
      "1\n",
      "0\n"
     ]
    }
   ],
   "source": [
    "print(hd[\"qform_code\"])\n",
    "print(hd[\"sform_code\"])"
   ]
  },
  {
   "cell_type": "markdown",
   "metadata": {},
   "source": [
    "When you do print(header) it already tells you you are using scanner coordinates. As qform > 0 and sform is not bigger than 0. That means we are using method 2, which uses the following transformation to express space (x,y,z) in voxels (i,j,k)\n",
    "\n",
    "     [ x ]   [ R11 R12 R13 ] [pixdim[1] * i ] + [ qoffset_x ]\n",
    "     [ y ] = [ R21 R22 R23 ] [pixdim[2] * j ] + [ qoffset_y ]\n",
    "     [ z ]   [ R31 R32 R33 ] [pixdim[3] * k ] + [ qoffset_z ]\n",
    "     \n",
    "As not sform > 0, all srow fields in the header are not used"
   ]
  },
  {
   "cell_type": "markdown",
   "metadata": {},
   "source": [
    "### Magic and intent_name"
   ]
  },
  {
   "cell_type": "markdown",
   "metadata": {},
   "source": [
    "intent_name provides 15 characters to specify a filename\n",
    "\n",
    "If the magic field is \"n+1\", then the voxel data is stored in the same file as the header. In this case, the voxel data starts at offset (int)vox_offset into the header file. Thus, vox_offset=352.0 means that the data starts immediately after the NIFTI-1 header. If vox_offset is greater than 352, the NIFTI-1 format does not say much about the contents of the dataset file between the end of the header and the start of the data.\n",
    "\n",
    "If the magic field is \"ni1\", then the voxel data is stored in the associated \".img\" file, starting at offset 0 (i.e., vox_offset is not used in this case, and should be set to 0.0).\n"
   ]
  },
  {
   "cell_type": "code",
   "execution_count": null,
   "metadata": {},
   "outputs": [],
   "source": []
  }
 ],
 "metadata": {
  "kernelspec": {
   "display_name": "Python 3",
   "language": "python",
   "name": "python3"
  },
  "language_info": {
   "codemirror_mode": {
    "name": "ipython",
    "version": 3
   },
   "file_extension": ".py",
   "mimetype": "text/x-python",
   "name": "python",
   "nbconvert_exporter": "python",
   "pygments_lexer": "ipython3",
   "version": "3.7.5"
  }
 },
 "nbformat": 4,
 "nbformat_minor": 2
}
